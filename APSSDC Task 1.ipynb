{
 "cells": [
  {
   "cell_type": "code",
   "execution_count": 3,
   "id": "bdea0161",
   "metadata": {},
   "outputs": [
    {
     "name": "stdout",
     "output_type": "stream",
     "text": [
      "Enter your age: 23\n",
      "The person has the right to vote, 23\n"
     ]
    }
   ],
   "source": [
    "#Program to check whether a person has the right to vote or not.\n",
    "a=int(input(\"Enter your age: \"))\n",
    "if(a>=18):\n",
    "    print(\"The person has the right to vote,\",a)\n",
    "else:\n",
    "    print(\"The person has not legal authority to vote\")"
   ]
  },
  {
   "cell_type": "code",
   "execution_count": 5,
   "id": "ec379dc6",
   "metadata": {},
   "outputs": [
    {
     "name": "stdout",
     "output_type": "stream",
     "text": [
      "Enter the number-2\n",
      "Negative Number\n"
     ]
    }
   ],
   "source": [
    "#Program to check whether a number is positive or negative.\n",
    "a=int(input(\"Enter the number\"))\n",
    "if(a>=0):\n",
    "    print(\"Positive Number\")\n",
    "else:\n",
    "    print(\"Negative Number\")"
   ]
  },
  {
   "cell_type": "code",
   "execution_count": 10,
   "id": "ba7d3a57",
   "metadata": {},
   "outputs": [
    {
     "name": "stdout",
     "output_type": "stream",
     "text": [
      "Enter the number7\n",
      "Odd number\n"
     ]
    }
   ],
   "source": [
    "#Program to check whether a number is even or odd and if it's even check the even number is divisible by 4 or not.\n",
    "a=int(input(\"Enter the number\"))\n",
    "if(a%2==0):\n",
    "    if(a%4==0):\n",
    "        print(\"Even number and divisible by 4\")\n",
    "    else:\n",
    "        print(\"Even number but not divisible by 4\")\n",
    "else:\n",
    "    print(\"Odd number\")\n",
    "    "
   ]
  },
  {
   "cell_type": "code",
   "execution_count": 12,
   "id": "40956fd0",
   "metadata": {},
   "outputs": [
    {
     "name": "stdout",
     "output_type": "stream",
     "text": [
      "Enter percantage obatained by the student:57\n",
      "pass\n"
     ]
    }
   ],
   "source": [
    "a = int(input(\"Enter percantage obatained by the student:\"))\n",
    "if a>=92:\n",
    "    print(\"distinction\")\n",
    "elif a>=50:\n",
    "    print(\"pass\")\n",
    "else:\n",
    "    print(\"fail\")"
   ]
  },
  {
   "cell_type": "code",
   "execution_count": 18,
   "id": "26771b30",
   "metadata": {},
   "outputs": [
    {
     "name": "stdout",
     "output_type": "stream",
     "text": [
      "Enter year2020\n",
      "is a leap year\n"
     ]
    }
   ],
   "source": [
    "#Check whether a year is leap year or not.\n",
    "a=int(input(\"Enter year\"))\n",
    "if (a % 4) == 0:\n",
    "   if (a % 100) == 0:\n",
    "       if (a % 400) == 0:\n",
    "           print(\" is a leap year\")\n",
    "       else:\n",
    "           print(\" is not a leap year\")\n",
    "   else:\n",
    "       print(\"is a leap year\")\n",
    "else:\n",
    "   print(\" is not a leap year\")"
   ]
  },
  {
   "cell_type": "code",
   "execution_count": null,
   "id": "f59c582c",
   "metadata": {},
   "outputs": [],
   "source": []
  }
 ],
 "metadata": {
  "kernelspec": {
   "display_name": "Python 3",
   "language": "python",
   "name": "python3"
  },
  "language_info": {
   "codemirror_mode": {
    "name": "ipython",
    "version": 3
   },
   "file_extension": ".py",
   "mimetype": "text/x-python",
   "name": "python",
   "nbconvert_exporter": "python",
   "pygments_lexer": "ipython3",
   "version": "3.8.8"
  }
 },
 "nbformat": 4,
 "nbformat_minor": 5
}
